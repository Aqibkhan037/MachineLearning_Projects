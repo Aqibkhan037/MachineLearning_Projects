{
 "cells": [
  {
   "cell_type": "code",
   "execution_count": 1,
   "id": "f69e483c",
   "metadata": {},
   "outputs": [
    {
     "data": {
      "text/html": [
       "        <script type=\"text/javascript\">\n",
       "        window.PlotlyConfig = {MathJaxConfig: 'local'};\n",
       "        if (window.MathJax && window.MathJax.Hub && window.MathJax.Hub.Config) {window.MathJax.Hub.Config({SVG: {font: \"STIX-Web\"}});}\n",
       "        if (typeof require !== 'undefined') {\n",
       "        require.undef(\"plotly\");\n",
       "        requirejs.config({\n",
       "            paths: {\n",
       "                'plotly': ['https://cdn.plot.ly/plotly-2.12.1.min']\n",
       "            }\n",
       "        });\n",
       "        require(['plotly'], function(Plotly) {\n",
       "            window._Plotly = Plotly;\n",
       "        });\n",
       "        }\n",
       "        </script>\n",
       "        "
      ]
     },
     "metadata": {},
     "output_type": "display_data"
    }
   ],
   "source": [
    "# import Python libraries\n",
    "import pandas as pd\n",
    "import numpy as np\n",
    "import seaborn as sns\n",
    "import matplotlib.pyplot as plt\n",
    "%matplotlib inline\n",
    "import itertools\n",
    "from itertools import chain\n",
    "from sklearn.feature_selection import RFE\n",
    "from sklearn.decomposition import PCA\n",
    "from sklearn.preprocessing import StandardScaler\n",
    "from sklearn.linear_model import LogisticRegression\n",
    "from sklearn.ensemble import VotingClassifier\n",
    "from sklearn.model_selection import GridSearchCV, cross_val_score, learning_curve, train_test_split\n",
    "from sklearn.metrics import precision_score, recall_score, confusion_matrix, roc_curve, precision_recall_curve, accuracy_score\n",
    "import warnings\n",
    "import plotly.offline as py\n",
    "py.init_notebook_mode(connected=True)\n",
    "import plotly.graph_objs as go\n",
    "import plotly.tools as tls\n",
    "import plotly.figure_factory as ff\n",
    "\n",
    "warnings.filterwarnings('ignore') #ignore warning messages"
   ]
  },
  {
   "cell_type": "markdown",
   "id": "e0a9d845",
   "metadata": {},
   "source": [
    "## Understanding the dataset"
   ]
  },
  {
   "cell_type": "code",
   "execution_count": 12,
   "id": "f1346b1c",
   "metadata": {},
   "outputs": [],
   "source": [
    "df = pd.read_csv(\"Coimbra_breast_cancer_dataset.csv\")"
   ]
  },
  {
   "cell_type": "code",
   "execution_count": 13,
   "id": "b5b666d2",
   "metadata": {},
   "outputs": [
    {
     "data": {
      "text/html": [
       "<div>\n",
       "<style scoped>\n",
       "    .dataframe tbody tr th:only-of-type {\n",
       "        vertical-align: middle;\n",
       "    }\n",
       "\n",
       "    .dataframe tbody tr th {\n",
       "        vertical-align: top;\n",
       "    }\n",
       "\n",
       "    .dataframe thead th {\n",
       "        text-align: right;\n",
       "    }\n",
       "</style>\n",
       "<table border=\"1\" class=\"dataframe\">\n",
       "  <thead>\n",
       "    <tr style=\"text-align: right;\">\n",
       "      <th></th>\n",
       "      <th>Age</th>\n",
       "      <th>BMI</th>\n",
       "      <th>Glucose</th>\n",
       "      <th>Insulin</th>\n",
       "      <th>HOMA</th>\n",
       "      <th>Leptin</th>\n",
       "      <th>Adiponectin</th>\n",
       "      <th>Resistin</th>\n",
       "      <th>MCP.1</th>\n",
       "      <th>Classification</th>\n",
       "    </tr>\n",
       "  </thead>\n",
       "  <tbody>\n",
       "    <tr>\n",
       "      <th>0</th>\n",
       "      <td>54</td>\n",
       "      <td>35.207389</td>\n",
       "      <td>103</td>\n",
       "      <td>5.642</td>\n",
       "      <td>1.378660</td>\n",
       "      <td>65.6699</td>\n",
       "      <td>9.738408</td>\n",
       "      <td>31.17499</td>\n",
       "      <td>197.660</td>\n",
       "      <td>1</td>\n",
       "    </tr>\n",
       "    <tr>\n",
       "      <th>1</th>\n",
       "      <td>52</td>\n",
       "      <td>22.978520</td>\n",
       "      <td>132</td>\n",
       "      <td>6.054</td>\n",
       "      <td>1.145435</td>\n",
       "      <td>47.5445</td>\n",
       "      <td>3.627241</td>\n",
       "      <td>23.03327</td>\n",
       "      <td>423.361</td>\n",
       "      <td>2</td>\n",
       "    </tr>\n",
       "    <tr>\n",
       "      <th>2</th>\n",
       "      <td>32</td>\n",
       "      <td>21.101341</td>\n",
       "      <td>87</td>\n",
       "      <td>5.668</td>\n",
       "      <td>1.008595</td>\n",
       "      <td>50.5074</td>\n",
       "      <td>5.067841</td>\n",
       "      <td>9.51156</td>\n",
       "      <td>897.034</td>\n",
       "      <td>2</td>\n",
       "    </tr>\n",
       "    <tr>\n",
       "      <th>3</th>\n",
       "      <td>42</td>\n",
       "      <td>26.761205</td>\n",
       "      <td>132</td>\n",
       "      <td>2.875</td>\n",
       "      <td>1.003837</td>\n",
       "      <td>16.8972</td>\n",
       "      <td>10.096475</td>\n",
       "      <td>9.75652</td>\n",
       "      <td>267.744</td>\n",
       "      <td>1</td>\n",
       "    </tr>\n",
       "    <tr>\n",
       "      <th>4</th>\n",
       "      <td>55</td>\n",
       "      <td>34.232520</td>\n",
       "      <td>76</td>\n",
       "      <td>3.120</td>\n",
       "      <td>1.597721</td>\n",
       "      <td>17.6852</td>\n",
       "      <td>11.845054</td>\n",
       "      <td>17.21541</td>\n",
       "      <td>788.552</td>\n",
       "      <td>2</td>\n",
       "    </tr>\n",
       "  </tbody>\n",
       "</table>\n",
       "</div>"
      ],
      "text/plain": [
       "   Age        BMI  Glucose  Insulin      HOMA   Leptin  Adiponectin  Resistin  \\\n",
       "0   54  35.207389      103    5.642  1.378660  65.6699     9.738408  31.17499   \n",
       "1   52  22.978520      132    6.054  1.145435  47.5445     3.627241  23.03327   \n",
       "2   32  21.101341       87    5.668  1.008595  50.5074     5.067841   9.51156   \n",
       "3   42  26.761205      132    2.875  1.003837  16.8972    10.096475   9.75652   \n",
       "4   55  34.232520       76    3.120  1.597721  17.6852    11.845054  17.21541   \n",
       "\n",
       "     MCP.1  Classification  \n",
       "0  197.660               1  \n",
       "1  423.361               2  \n",
       "2  897.034               2  \n",
       "3  267.744               1  \n",
       "4  788.552               2  "
      ]
     },
     "execution_count": 13,
     "metadata": {},
     "output_type": "execute_result"
    }
   ],
   "source": [
    "df.head()"
   ]
  },
  {
   "cell_type": "code",
   "execution_count": 17,
   "id": "55d8858c",
   "metadata": {},
   "outputs": [
    {
     "data": {
      "text/plain": [
       "(4000, 10)"
      ]
     },
     "execution_count": 17,
     "metadata": {},
     "output_type": "execute_result"
    }
   ],
   "source": [
    "df.shape\n"
   ]
  },
  {
   "cell_type": "code",
   "execution_count": 18,
   "id": "bc3983e0",
   "metadata": {},
   "outputs": [
    {
     "data": {
      "text/plain": [
       "Index(['Age', 'BMI', 'Glucose', 'Insulin', 'HOMA', 'Leptin', 'Adiponectin',\n",
       "       'Resistin', 'MCP.1', 'Classification'],\n",
       "      dtype='object')"
      ]
     },
     "execution_count": 18,
     "metadata": {},
     "output_type": "execute_result"
    }
   ],
   "source": [
    "df.columns"
   ]
  },
  {
   "cell_type": "code",
   "execution_count": 19,
   "id": "94758755",
   "metadata": {},
   "outputs": [
    {
     "data": {
      "text/plain": [
       "Age                 int64\n",
       "BMI               float64\n",
       "Glucose             int64\n",
       "Insulin           float64\n",
       "HOMA              float64\n",
       "Leptin            float64\n",
       "Adiponectin       float64\n",
       "Resistin          float64\n",
       "MCP.1             float64\n",
       "Classification      int64\n",
       "dtype: object"
      ]
     },
     "execution_count": 19,
     "metadata": {},
     "output_type": "execute_result"
    }
   ],
   "source": [
    "df.dtypes"
   ]
  },
  {
   "cell_type": "code",
   "execution_count": 20,
   "id": "d3726e43",
   "metadata": {},
   "outputs": [
    {
     "data": {
      "text/html": [
       "<div>\n",
       "<style scoped>\n",
       "    .dataframe tbody tr th:only-of-type {\n",
       "        vertical-align: middle;\n",
       "    }\n",
       "\n",
       "    .dataframe tbody tr th {\n",
       "        vertical-align: top;\n",
       "    }\n",
       "\n",
       "    .dataframe thead th {\n",
       "        text-align: right;\n",
       "    }\n",
       "</style>\n",
       "<table border=\"1\" class=\"dataframe\">\n",
       "  <thead>\n",
       "    <tr style=\"text-align: right;\">\n",
       "      <th></th>\n",
       "      <th>Age</th>\n",
       "      <th>BMI</th>\n",
       "      <th>Glucose</th>\n",
       "      <th>Insulin</th>\n",
       "      <th>HOMA</th>\n",
       "      <th>Leptin</th>\n",
       "      <th>Adiponectin</th>\n",
       "      <th>Resistin</th>\n",
       "      <th>MCP.1</th>\n",
       "      <th>Classification</th>\n",
       "    </tr>\n",
       "  </thead>\n",
       "  <tbody>\n",
       "    <tr>\n",
       "      <th>count</th>\n",
       "      <td>4000.00000</td>\n",
       "      <td>4000.000000</td>\n",
       "      <td>4000.000000</td>\n",
       "      <td>4000.000000</td>\n",
       "      <td>4000.000000</td>\n",
       "      <td>4000.000000</td>\n",
       "      <td>4000.000000</td>\n",
       "      <td>4000.000000</td>\n",
       "      <td>4000.000000</td>\n",
       "      <td>4000.000000</td>\n",
       "    </tr>\n",
       "    <tr>\n",
       "      <th>mean</th>\n",
       "      <td>56.21075</td>\n",
       "      <td>27.422280</td>\n",
       "      <td>113.876500</td>\n",
       "      <td>8.654001</td>\n",
       "      <td>2.024332</td>\n",
       "      <td>25.137737</td>\n",
       "      <td>9.364896</td>\n",
       "      <td>13.053667</td>\n",
       "      <td>512.183456</td>\n",
       "      <td>1.554000</td>\n",
       "    </tr>\n",
       "    <tr>\n",
       "      <th>std</th>\n",
       "      <td>17.80965</td>\n",
       "      <td>4.413884</td>\n",
       "      <td>25.837795</td>\n",
       "      <td>6.435160</td>\n",
       "      <td>1.625638</td>\n",
       "      <td>15.096446</td>\n",
       "      <td>4.674244</td>\n",
       "      <td>7.454424</td>\n",
       "      <td>253.279015</td>\n",
       "      <td>0.497138</td>\n",
       "    </tr>\n",
       "    <tr>\n",
       "      <th>min</th>\n",
       "      <td>32.00000</td>\n",
       "      <td>20.690751</td>\n",
       "      <td>76.000000</td>\n",
       "      <td>2.821000</td>\n",
       "      <td>0.590033</td>\n",
       "      <td>6.831900</td>\n",
       "      <td>3.192272</td>\n",
       "      <td>4.190320</td>\n",
       "      <td>137.488000</td>\n",
       "      <td>1.000000</td>\n",
       "    </tr>\n",
       "    <tr>\n",
       "      <th>25%</th>\n",
       "      <td>39.00000</td>\n",
       "      <td>23.079053</td>\n",
       "      <td>76.000000</td>\n",
       "      <td>4.421750</td>\n",
       "      <td>0.970090</td>\n",
       "      <td>12.712750</td>\n",
       "      <td>5.580210</td>\n",
       "      <td>7.022095</td>\n",
       "      <td>299.665000</td>\n",
       "      <td>1.000000</td>\n",
       "    </tr>\n",
       "    <tr>\n",
       "      <th>50%</th>\n",
       "      <td>56.00000</td>\n",
       "      <td>27.558485</td>\n",
       "      <td>131.000000</td>\n",
       "      <td>5.818000</td>\n",
       "      <td>1.373842</td>\n",
       "      <td>19.805050</td>\n",
       "      <td>8.286938</td>\n",
       "      <td>10.692780</td>\n",
       "      <td>482.308000</td>\n",
       "      <td>2.000000</td>\n",
       "    </tr>\n",
       "    <tr>\n",
       "      <th>75%</th>\n",
       "      <td>72.00000</td>\n",
       "      <td>30.814916</td>\n",
       "      <td>134.000000</td>\n",
       "      <td>10.466250</td>\n",
       "      <td>2.502776</td>\n",
       "      <td>36.670250</td>\n",
       "      <td>10.918292</td>\n",
       "      <td>17.294747</td>\n",
       "      <td>691.312500</td>\n",
       "      <td>2.000000</td>\n",
       "    </tr>\n",
       "    <tr>\n",
       "      <th>max</th>\n",
       "      <td>85.00000</td>\n",
       "      <td>36.209606</td>\n",
       "      <td>138.000000</td>\n",
       "      <td>30.211000</td>\n",
       "      <td>8.218456</td>\n",
       "      <td>68.506600</td>\n",
       "      <td>22.536919</td>\n",
       "      <td>42.617810</td>\n",
       "      <td>1227.250000</td>\n",
       "      <td>2.000000</td>\n",
       "    </tr>\n",
       "  </tbody>\n",
       "</table>\n",
       "</div>"
      ],
      "text/plain": [
       "              Age          BMI      Glucose      Insulin         HOMA  \\\n",
       "count  4000.00000  4000.000000  4000.000000  4000.000000  4000.000000   \n",
       "mean     56.21075    27.422280   113.876500     8.654001     2.024332   \n",
       "std      17.80965     4.413884    25.837795     6.435160     1.625638   \n",
       "min      32.00000    20.690751    76.000000     2.821000     0.590033   \n",
       "25%      39.00000    23.079053    76.000000     4.421750     0.970090   \n",
       "50%      56.00000    27.558485   131.000000     5.818000     1.373842   \n",
       "75%      72.00000    30.814916   134.000000    10.466250     2.502776   \n",
       "max      85.00000    36.209606   138.000000    30.211000     8.218456   \n",
       "\n",
       "            Leptin  Adiponectin     Resistin        MCP.1  Classification  \n",
       "count  4000.000000  4000.000000  4000.000000  4000.000000     4000.000000  \n",
       "mean     25.137737     9.364896    13.053667   512.183456        1.554000  \n",
       "std      15.096446     4.674244     7.454424   253.279015        0.497138  \n",
       "min       6.831900     3.192272     4.190320   137.488000        1.000000  \n",
       "25%      12.712750     5.580210     7.022095   299.665000        1.000000  \n",
       "50%      19.805050     8.286938    10.692780   482.308000        2.000000  \n",
       "75%      36.670250    10.918292    17.294747   691.312500        2.000000  \n",
       "max      68.506600    22.536919    42.617810  1227.250000        2.000000  "
      ]
     },
     "execution_count": 20,
     "metadata": {},
     "output_type": "execute_result"
    }
   ],
   "source": [
    "df.describe()"
   ]
  },
  {
   "cell_type": "code",
   "execution_count": 21,
   "id": "02065fdc",
   "metadata": {},
   "outputs": [
    {
     "data": {
      "text/plain": [
       "Age                 54\n",
       "BMI               4000\n",
       "Glucose             63\n",
       "Insulin           2963\n",
       "HOMA              4000\n",
       "Leptin            3883\n",
       "Adiponectin       3993\n",
       "Resistin          3984\n",
       "MCP.1             3934\n",
       "Classification       2\n",
       "dtype: int64"
      ]
     },
     "execution_count": 21,
     "metadata": {},
     "output_type": "execute_result"
    }
   ],
   "source": [
    "df.nunique()"
   ]
  },
  {
   "cell_type": "code",
   "execution_count": null,
   "id": "117523f9",
   "metadata": {},
   "outputs": [],
   "source": []
  }
 ],
 "metadata": {
  "kernelspec": {
   "display_name": "Python 3 (ipykernel)",
   "language": "python",
   "name": "python3"
  },
  "language_info": {
   "codemirror_mode": {
    "name": "ipython",
    "version": 3
   },
   "file_extension": ".py",
   "mimetype": "text/x-python",
   "name": "python",
   "nbconvert_exporter": "python",
   "pygments_lexer": "ipython3",
   "version": "3.11.5"
  }
 },
 "nbformat": 4,
 "nbformat_minor": 5
}
