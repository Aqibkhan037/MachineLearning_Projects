{
 "cells": [
  {
   "cell_type": "code",
   "execution_count": null,
   "id": "5267e502",
   "metadata": {},
   "outputs": [],
   "source": [
    "import pandas as pd\n",
    "\n",
    "# Load CSV files\n",
    "catering_df = pd.read_csv('tbl_catering.csv')\n",
    "catering_details_df = pd.read_csv('tbl_catering_details.csv')\n",
    "catering_products_df = pd.read_csv('tbl_catering_products.csv')\n",
    "\n",
    "# Inspect the data\n",
    "print(catering_data.head())\n",
    "print(catering_details.head())\n",
    "print(catering_products.head())\n",
    "\n",
    "print(catering_data.columns)\n",
    "print(catering_details.columns)\n",
    "print(catering_products.columns)\n"
   ]
  },
  {
   "cell_type": "code",
   "execution_count": null,
   "id": "25b8df9c",
   "metadata": {},
   "outputs": [],
   "source": []
  },
  {
   "cell_type": "code",
   "execution_count": null,
   "id": "16fe8d6e",
   "metadata": {},
   "outputs": [],
   "source": []
  },
  {
   "cell_type": "code",
   "execution_count": null,
   "id": "8df52715",
   "metadata": {},
   "outputs": [],
   "source": []
  },
  {
   "cell_type": "code",
   "execution_count": null,
   "id": "2ab076ec",
   "metadata": {},
   "outputs": [],
   "source": []
  }
 ],
 "metadata": {
  "kernelspec": {
   "display_name": "Python 3 (ipykernel)",
   "language": "python",
   "name": "python3"
  },
  "language_info": {
   "codemirror_mode": {
    "name": "ipython",
    "version": 3
   },
   "file_extension": ".py",
   "mimetype": "text/x-python",
   "name": "python",
   "nbconvert_exporter": "python",
   "pygments_lexer": "ipython3",
   "version": "3.11.5"
  }
 },
 "nbformat": 4,
 "nbformat_minor": 5
}
