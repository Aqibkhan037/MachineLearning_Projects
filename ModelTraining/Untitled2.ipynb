{
 "cells": [
  {
   "cell_type": "code",
   "execution_count": 10,
   "id": "0b2dc416",
   "metadata": {},
   "outputs": [],
   "source": [
    "import pandas as pd\n",
    "from sklearn.model_selection import train_test_split\n",
    "from sklearn.linear_model import LinearRegression"
   ]
  },
  {
   "cell_type": "code",
   "execution_count": 11,
   "id": "5d9f61b5",
   "metadata": {},
   "outputs": [],
   "source": [
    "# Load the catering details data\n",
    "catering_details = pd.read_csv('tbl_catering_details.csv')\n",
    "\n",
    "# Load the catering data\n",
    "catering = pd.read_csv('tbl_catering.csv')\n",
    "\n",
    "# Load the catering products data\n",
    "catering_products = pd.read_csv('tbl_catering_products.csv')"
   ]
  },
  {
   "cell_type": "code",
   "execution_count": 14,
   "id": "4d4f4eb1",
   "metadata": {},
   "outputs": [],
   "source": [
    "# Convert delivery date to a suitable format\n",
    "catering['DELIVERY_DATE'] = pd.to_datetime(catering['DELIVERY_DATE'])"
   ]
  },
  {
   "cell_type": "code",
   "execution_count": 15,
   "id": "2f8f6f9e",
   "metadata": {},
   "outputs": [],
   "source": [
    "# Handle missing values\n",
    "catering.fillna(0, inplace=True)\n",
    "catering_details.fillna(0, inplace=True)\n",
    "catering_products.fillna(0, inplace=True)"
   ]
  },
  {
   "cell_type": "code",
   "execution_count": 16,
   "id": "9c3b0946",
   "metadata": {},
   "outputs": [],
   "source": [
    "# Convert quantities to numeric format\n",
    "catering_details['QUANTITY'] = pd.to_numeric(catering_details['QUANTITY'].str.replace('tr', '').str.replace('cups', '').replace('1,1/2', '1.5').replace('2 1/2', '2.5'), errors='coerce')"
   ]
  },
  {
   "cell_type": "code",
   "execution_count": 29,
   "id": "81204b67",
   "metadata": {},
   "outputs": [],
   "source": [
    "# Merge catering details with catering data\n",
    "\n",
    "\n",
    "merged_data = pd.merge(catering, catering_details, left_on='ID', right_on='CATERING_ID', how='left')\n"
   ]
  },
  {
   "cell_type": "code",
   "execution_count": 30,
   "id": "44923cb9",
   "metadata": {},
   "outputs": [],
   "source": [
    "# Create a mapping of dishes to their quantities\n",
    "dish_quantity_map = merged_data.groupby('ITEM_DESC')['QUANTITY'].sum().reset_index()"
   ]
  },
  {
   "cell_type": "code",
   "execution_count": 31,
   "id": "71021773",
   "metadata": {},
   "outputs": [],
   "source": [
    "# Create a pivot table for dish quantities per event\n",
    "dish_quantity_pivot = merged_data.pivot_table(index='CATERING_ID', columns='ITEM_DESC', values='QUANTITY', fill_value=0)"
   ]
  },
  {
   "cell_type": "code",
   "execution_count": 32,
   "id": "6e69cecf",
   "metadata": {},
   "outputs": [],
   "source": [
    "# Add guest count to the pivot table\n",
    "\n",
    "dish_quantity_pivot['GUEST_COUNT'] = merged_data['GUEST_COUNT']\n",
    "\n"
   ]
  },
  {
   "cell_type": "code",
   "execution_count": 49,
   "id": "f300dfad",
   "metadata": {},
   "outputs": [],
   "source": [
    "# Save the dish quantity map to a CSV file\n",
    "dish_quantity_map.to_csv('dish_quantity_map.csv', index=False)"
   ]
  },
  {
   "cell_type": "code",
   "execution_count": 33,
   "id": "f76deef6",
   "metadata": {},
   "outputs": [],
   "source": [
    "# Select features and target variable\n",
    "X = dish_quantity_pivot[['GUEST_COUNT']]\n",
    "y = dish_quantity_pivot.drop('GUEST_COUNT', axis=1)"
   ]
  },
  {
   "cell_type": "code",
   "execution_count": 34,
   "id": "26dd099b",
   "metadata": {},
   "outputs": [],
   "source": [
    "# Split the data into training and testing sets\n",
    "X_train, X_test, y_train, y_test = train_test_split(X, y, test_size=0.2, random_state=42)"
   ]
  },
  {
   "cell_type": "code",
   "execution_count": 35,
   "id": "9877507f",
   "metadata": {},
   "outputs": [
    {
     "data": {
      "text/html": [
       "<style>#sk-container-id-1 {color: black;}#sk-container-id-1 pre{padding: 0;}#sk-container-id-1 div.sk-toggleable {background-color: white;}#sk-container-id-1 label.sk-toggleable__label {cursor: pointer;display: block;width: 100%;margin-bottom: 0;padding: 0.3em;box-sizing: border-box;text-align: center;}#sk-container-id-1 label.sk-toggleable__label-arrow:before {content: \"▸\";float: left;margin-right: 0.25em;color: #696969;}#sk-container-id-1 label.sk-toggleable__label-arrow:hover:before {color: black;}#sk-container-id-1 div.sk-estimator:hover label.sk-toggleable__label-arrow:before {color: black;}#sk-container-id-1 div.sk-toggleable__content {max-height: 0;max-width: 0;overflow: hidden;text-align: left;background-color: #f0f8ff;}#sk-container-id-1 div.sk-toggleable__content pre {margin: 0.2em;color: black;border-radius: 0.25em;background-color: #f0f8ff;}#sk-container-id-1 input.sk-toggleable__control:checked~div.sk-toggleable__content {max-height: 200px;max-width: 100%;overflow: auto;}#sk-container-id-1 input.sk-toggleable__control:checked~label.sk-toggleable__label-arrow:before {content: \"▾\";}#sk-container-id-1 div.sk-estimator input.sk-toggleable__control:checked~label.sk-toggleable__label {background-color: #d4ebff;}#sk-container-id-1 div.sk-label input.sk-toggleable__control:checked~label.sk-toggleable__label {background-color: #d4ebff;}#sk-container-id-1 input.sk-hidden--visually {border: 0;clip: rect(1px 1px 1px 1px);clip: rect(1px, 1px, 1px, 1px);height: 1px;margin: -1px;overflow: hidden;padding: 0;position: absolute;width: 1px;}#sk-container-id-1 div.sk-estimator {font-family: monospace;background-color: #f0f8ff;border: 1px dotted black;border-radius: 0.25em;box-sizing: border-box;margin-bottom: 0.5em;}#sk-container-id-1 div.sk-estimator:hover {background-color: #d4ebff;}#sk-container-id-1 div.sk-parallel-item::after {content: \"\";width: 100%;border-bottom: 1px solid gray;flex-grow: 1;}#sk-container-id-1 div.sk-label:hover label.sk-toggleable__label {background-color: #d4ebff;}#sk-container-id-1 div.sk-serial::before {content: \"\";position: absolute;border-left: 1px solid gray;box-sizing: border-box;top: 0;bottom: 0;left: 50%;z-index: 0;}#sk-container-id-1 div.sk-serial {display: flex;flex-direction: column;align-items: center;background-color: white;padding-right: 0.2em;padding-left: 0.2em;position: relative;}#sk-container-id-1 div.sk-item {position: relative;z-index: 1;}#sk-container-id-1 div.sk-parallel {display: flex;align-items: stretch;justify-content: center;background-color: white;position: relative;}#sk-container-id-1 div.sk-item::before, #sk-container-id-1 div.sk-parallel-item::before {content: \"\";position: absolute;border-left: 1px solid gray;box-sizing: border-box;top: 0;bottom: 0;left: 50%;z-index: -1;}#sk-container-id-1 div.sk-parallel-item {display: flex;flex-direction: column;z-index: 1;position: relative;background-color: white;}#sk-container-id-1 div.sk-parallel-item:first-child::after {align-self: flex-end;width: 50%;}#sk-container-id-1 div.sk-parallel-item:last-child::after {align-self: flex-start;width: 50%;}#sk-container-id-1 div.sk-parallel-item:only-child::after {width: 0;}#sk-container-id-1 div.sk-dashed-wrapped {border: 1px dashed gray;margin: 0 0.4em 0.5em 0.4em;box-sizing: border-box;padding-bottom: 0.4em;background-color: white;}#sk-container-id-1 div.sk-label label {font-family: monospace;font-weight: bold;display: inline-block;line-height: 1.2em;}#sk-container-id-1 div.sk-label-container {text-align: center;}#sk-container-id-1 div.sk-container {/* jupyter's `normalize.less` sets `[hidden] { display: none; }` but bootstrap.min.css set `[hidden] { display: none !important; }` so we also need the `!important` here to be able to override the default hidden behavior on the sphinx rendered scikit-learn.org. See: https://github.com/scikit-learn/scikit-learn/issues/21755 */display: inline-block !important;position: relative;}#sk-container-id-1 div.sk-text-repr-fallback {display: none;}</style><div id=\"sk-container-id-1\" class=\"sk-top-container\"><div class=\"sk-text-repr-fallback\"><pre>LinearRegression()</pre><b>In a Jupyter environment, please rerun this cell to show the HTML representation or trust the notebook. <br />On GitHub, the HTML representation is unable to render, please try loading this page with nbviewer.org.</b></div><div class=\"sk-container\" hidden><div class=\"sk-item\"><div class=\"sk-estimator sk-toggleable\"><input class=\"sk-toggleable__control sk-hidden--visually\" id=\"sk-estimator-id-1\" type=\"checkbox\" checked><label for=\"sk-estimator-id-1\" class=\"sk-toggleable__label sk-toggleable__label-arrow\">LinearRegression</label><div class=\"sk-toggleable__content\"><pre>LinearRegression()</pre></div></div></div></div></div>"
      ],
      "text/plain": [
       "LinearRegression()"
      ]
     },
     "execution_count": 35,
     "metadata": {},
     "output_type": "execute_result"
    }
   ],
   "source": [
    "# Train the model\n",
    "model = LinearRegression()\n",
    "model.fit(X_train, y_train)"
   ]
  },
  {
   "cell_type": "code",
   "execution_count": 46,
   "id": "683198f6",
   "metadata": {},
   "outputs": [
    {
     "name": "stdout",
     "output_type": "stream",
     "text": [
      "Mean Squared Error: 87.10917847889836\n"
     ]
    },
    {
     "data": {
      "text/plain": [
       "['catering_model_RE.pkl']"
      ]
     },
     "execution_count": 46,
     "metadata": {},
     "output_type": "execute_result"
    }
   ],
   "source": [
    "import re\n",
    "from sklearn.linear_model import LinearRegression\n",
    "# Evaluate the model\n",
    "from joblib import Memory\n",
    "from sklearn.metrics import mean_squared_error, r2_score\n",
    "# Evaluate the model\n",
    "y_pred = model.predict(X_test)\n",
    "mse = mean_squared_error(y_test, y_pred)\n",
    "print(f\"Mean Squared Error: {mse}\")\n",
    "import joblib\n",
    "\n",
    "# Save the model to a file\n",
    "joblib.dump(model, 'catering_model_RE.pkl')"
   ]
  },
  {
   "cell_type": "code",
   "execution_count": 51,
   "id": "b2953b0c",
   "metadata": {},
   "outputs": [
    {
     "name": "stdout",
     "output_type": "stream",
     "text": [
      "[[0.00000000e+00 1.03681298e-03 0.00000000e+00 0.00000000e+00\n",
      "  2.15910800e-03 3.28976667e-03 1.71160141e-02 0.00000000e+00\n",
      "  1.74755406e-03 3.01392839e-03 2.34983334e-03 1.63739296e-01\n",
      "  0.00000000e+00 2.93092666e-03 9.10230911e-03 3.31191007e-02\n",
      "  5.16963334e-03 3.09904133e-03 1.22202407e-03 9.36587873e-02\n",
      "  6.39469136e-03 4.52876313e-01 9.94071960e-02 3.91929981e-02\n",
      "  5.87894972e-01 2.29261574e-01 1.27901209e-03 1.87986667e-03\n",
      "  1.59796049e-03 0.00000000e+00 4.00246542e-02 1.26127198e-01\n",
      "  0.00000000e+00 3.51486938e-01 1.06530699e-02 0.00000000e+00\n",
      "  0.00000000e+00 2.15910800e-03 2.13631279e-02 2.34983334e-02\n",
      "  1.17491667e-01 2.26044630e-03 0.00000000e+00 3.51939668e-01\n",
      "  2.81980001e-02 7.95579418e-01 4.16149893e-03 3.49510812e-01\n",
      "  1.87986667e-03 1.24201631e-01 3.69339471e-02 8.69020152e-03\n",
      "  7.84503663e-03 2.15910800e-03 2.10211997e-03 1.07955400e-03\n",
      "  0.00000000e+00 1.40990000e-01 4.40921229e-02 2.96683945e-02\n",
      "  2.34983334e-03 5.34648077e-03 2.22346092e-02 4.00164862e-02\n",
      "  2.12018193e-01 4.69966668e-02 2.34983334e-02 1.73424898e-01\n",
      "  3.16418042e-02 0.00000000e+00 2.93947486e-02 5.79346768e-02\n",
      "  8.85298650e-03 9.59088916e-03 2.35904370e-02 3.51232337e-02\n",
      "  3.01392839e-03 2.64221882e-02 8.55779664e-03 2.25193389e-02\n",
      "  2.81980001e-03 0.00000000e+00 9.79824954e-04 1.00831897e-03\n",
      "  1.15905230e-02 8.99582566e-03 9.39933335e-04 1.50696420e-03\n",
      "  1.81875218e-01 8.64827893e-02 2.61092088e+00 5.42973621e+00\n",
      "  8.69020152e-03 1.36449413e-03 2.10211997e-03 2.34983334e-03\n",
      "  7.75955459e-03 4.82788973e-03 2.15910800e-03 2.40420671e-02\n",
      "  2.68785649e-03 0.00000000e+00 8.69832971e-02 1.36449413e-03\n",
      "  0.00000000e+00 7.68031672e+00 1.49110794e-01 0.00000000e+00\n",
      "  0.00000000e+00 2.33007208e-03 8.80132817e-03 7.84503663e-03\n",
      "  0.00000000e+00 0.00000000e+00 4.52089259e-03 1.72618355e-03\n",
      "  1.00218257e-01 1.79190433e-03 7.43899694e-03 1.73298520e-02\n",
      "  3.75973334e-03 9.15254273e-03 2.81980001e-02 8.55416846e-03\n",
      "  1.73758115e-02 0.00000000e+00 4.96218070e-03 5.86098226e-03\n",
      "  2.91686420e-01 6.12597658e-03 4.86748313e-01 2.65614398e-03\n",
      "  7.76438234e-03 2.33007208e-03 9.39933335e-04 3.27000541e-03\n",
      "  5.68271013e-03 6.55407328e-02 0.00000000e+00 1.00182071e-02\n",
      "  6.11012033e-03 2.91628768e-02 2.21894543e-03 9.27023924e-03\n",
      "  1.20562155e-02 1.08199445e-02 3.14015170e-02 1.39930702e-01\n",
      "  0.00000000e+00 3.32414404e-03 7.54850917e-02 7.94117808e-03\n",
      "  1.27901209e-03 1.40990000e-01 8.55416846e-03 9.94071960e-04\n",
      "  7.75955459e-03 0.00000000e+00 1.71106327e-02 1.07955400e-04\n",
      "  1.20629699e-02 1.04788874e-03 1.29459152e-02 0.00000000e+00\n",
      "  9.39933335e-04 1.42854321e+00 1.09380101e-03 4.81762525e-02\n",
      "  3.37483592e+00 2.54855634e-01 5.80312318e-01 1.70408489e-01\n",
      "  7.54584949e-03 1.79190433e-03 9.94071960e-04 1.12792000e-01\n",
      "  0.00000000e+00 9.39580409e-02 0.00000000e+00 1.29325910e-03\n",
      "  2.23875799e-02 3.37952281e-02 2.41394487e-01 7.38752317e-01\n",
      "  0.00000000e+00 3.66607220e-03 2.81980001e-03 1.31590667e-01\n",
      "  2.56405044e+00 6.70527610e-03 4.86860960e-02 9.22736092e-02\n",
      "  0.00000000e+00 0.00000000e+00 2.10496937e-03 6.85877467e-02\n",
      "  2.89673384e-02 6.95850372e-02 1.51137560e-01 0.00000000e+00\n",
      "  1.31590667e-01 3.75973334e-03 4.69966668e-03 2.92238362e-02\n",
      "  1.50696420e-03 4.82788973e-03 2.36178459e-03 0.00000000e+00\n",
      "  9.79824954e-04 4.14725192e-03 3.16903622e-03 4.69966668e-03\n",
      "  8.69020152e-03 3.76258274e-01 3.78639075e-01 0.00000000e+00\n",
      "  0.00000000e+00 1.87986667e-03 0.00000000e+00 2.58651820e-03\n",
      "  2.81980001e-01 1.50696420e-03 3.90593598e-01 2.15910800e-03\n",
      "  5.77781960e-01 4.20423995e-03 6.53753052e-01 1.50696420e-03\n",
      "  7.53482098e-02 0.00000000e+00 4.86682920e+00 7.53482098e-02\n",
      "  1.46973743e-03 0.00000000e+00 2.34983334e-03 1.92715345e-02\n",
      "  1.25487929e-02 4.43219205e-03 1.09380101e-03 1.07955400e-03\n",
      "  0.00000000e+00 1.67146176e-02 4.77572946e-03 2.87748710e-02\n",
      "  9.00209065e-02 6.11012033e-03 0.00000000e+00 1.37367651e-01\n",
      "  7.30167203e-03 6.99021623e-03 2.10496937e-03 2.81980001e-03\n",
      "  1.40069485e+01 1.07955400e-03 1.02256597e-03 5.00956786e-02\n",
      "  2.52079742e-03 1.83303610e-03 9.39933335e-04 0.00000000e+00\n",
      "  2.36178459e-01 0.00000000e+00 4.54598355e-03 5.77494657e-03\n",
      "  9.79824954e-04 1.51407803e+00 7.27478727e-03 9.94071960e-04\n",
      "  4.82788973e-02 3.66607220e-03 3.49510812e-03 1.68169598e-01\n",
      "  7.67966727e-02 1.92943297e-02 3.88192763e-02 2.51737814e-01\n",
      "  1.06483858e+01 8.35471037e-02 0.00000000e+00 3.39066944e-01\n",
      "  0.00000000e+00 2.44404813e-03 1.87986667e-03 0.00000000e+00\n",
      "  2.33407453e-01 2.81980001e-03 0.00000000e+00 3.75973334e-01\n",
      "  0.00000000e+00 9.39933335e-04 8.52406519e-01 0.00000000e+00\n",
      "  1.90761659e-02 8.12275212e-02 7.74760334e-01 0.00000000e+00\n",
      "  0.00000000e+00 3.76171169e-03 1.60011600e-02 3.15317996e-03\n",
      "  1.80557629e-02 2.55641493e-03 4.52089259e-03 1.07955400e-03\n",
      "  7.88262805e-01 5.99614427e-01 0.00000000e+00 8.69020152e-03\n",
      "  2.15910800e-03 7.84503663e-03 2.11937731e-02 3.87977729e-03\n",
      "  9.39933335e-04 3.06769792e-03 7.06437449e-02 1.07955400e-03\n",
      "  0.00000000e+00 6.09267136e-01 0.00000000e+00 0.00000000e+00\n",
      "  1.27836839e-01 9.65577947e-04 2.47378229e-03 0.00000000e+00\n",
      "  9.31053834e-02 0.00000000e+00 2.34983334e-03 1.87986667e-03\n",
      "  2.41665697e-02 8.09665500e-02 2.98221588e-01 5.32653496e-01\n",
      "  7.04950001e-02 1.47835871e+00 9.39933335e-02 1.87986667e-02\n",
      "  4.65844263e-01 2.36178459e-03 6.74117472e-01 3.75973334e-02\n",
      "  3.75973334e-02 0.00000000e+00 3.75973334e-02 1.53481451e-02\n",
      "  0.00000000e+00 3.76741049e-01 1.87986667e-03 1.81760684e+00\n",
      "  1.53384896e-03 1.38231617e-02 9.65936707e-03 2.15910800e-03\n",
      "  0.00000000e+00 1.15078903e-01 1.09380101e-03 1.05105999e-03\n",
      "  0.00000000e+00 0.00000000e+00 0.00000000e+00 9.59259069e-02\n",
      "  6.02428425e-01 1.64488334e-01 0.00000000e+00 1.64488334e-01\n",
      "  7.53482098e-02 2.90156159e-01 5.62470188e+00 1.01423384e+00\n",
      "  1.64488334e-01 0.00000000e+00 4.88809626e-01 1.64488334e-01\n",
      "  9.59259069e-02 1.38708892e+00 0.00000000e+00 0.00000000e+00\n",
      "  7.83859963e-02 1.71469367e-01 1.34392825e-01 9.59259069e-02\n",
      "  9.39933335e-02 1.59386104e+00 2.78426148e-02 1.07955400e-03\n",
      "  9.65577947e-02 1.13955235e-02 1.40990000e-01 1.04748502e-01\n",
      "  5.68271013e-02 1.51137560e-01 2.04674120e-03 3.40962608e-03\n",
      "  9.39933335e-04 2.68891209e-03 1.02288782e-02 3.40962608e-03\n",
      "  5.92490924e-03 3.35400753e+00 1.61265336e-02 7.31611540e-02\n",
      "  0.00000000e+00 1.17491667e-01 4.11305910e-03 2.01948733e-03\n",
      "  1.58863128e-02 3.11043894e-03 4.54616810e-03 0.00000000e+00\n",
      "  0.00000000e+00 6.88724374e+00 0.00000000e+00 1.09380101e-03\n",
      "  0.00000000e+00 4.82289254e+00 9.39933335e-03 7.82071633e-01\n",
      "  2.34983334e-02 9.83571120e+00 0.00000000e+00 7.84503663e-03\n",
      "  2.34983334e-03 1.17073484e-03 2.71253555e-01 4.60154688e-01\n",
      "  5.63960001e-02 3.06769792e-01 0.00000000e+00 9.39933335e-02\n",
      "  4.16135218e+00 4.31821600e-01 1.23691905e+00 4.94770411e-01\n",
      "  1.14098606e-01 6.99021623e-03 2.69026298e-01 2.41743797e-01\n",
      "  0.00000000e+00 9.83566085e-03 1.87986667e-03 9.80629579e-02\n",
      "  0.00000000e+00 5.76891780e-02 4.14725192e-03 1.93115589e-03\n",
      "  9.39933335e-04 1.79190433e-03 3.11043894e-01 4.69966668e-03\n",
      "  5.60986585e-03 1.44836692e-03 8.80379830e-01 4.82788973e-03\n",
      "  1.12792000e-01 1.30307108e-02 3.11043894e-03 1.31256121e-01\n",
      "  1.74755406e-03 2.06557899e-02 5.67344101e+00 4.72356918e-03\n",
      "  6.85464821e-02 3.23866200e-02 6.47732400e-03 8.60899803e-02\n",
      "  1.64267958e+00 1.29546480e-02 9.51235390e-01 2.24459004e-03\n",
      "  6.47732400e-03 5.17303639e-02 4.52089259e-03 2.06641697e-01\n",
      "  5.63960001e-02 4.52640684e-02 9.39933335e-04 1.22234592e-02\n",
      "  0.00000000e+00 6.56280604e-02 0.00000000e+00 0.00000000e+00\n",
      "  0.00000000e+00 9.65577947e-04 6.75904563e-02 1.03681298e-03\n",
      "  1.87986667e-03 2.81980001e-03 1.57153488e-02 0.00000000e+00\n",
      "  3.58343956e-03 1.98814392e-03 1.19353005e-03 7.52483168e-01\n",
      "  8.69020152e-03 3.48951693e+00 2.07873480e+00 2.89673384e-03\n",
      "  6.77355100e-01 4.88809626e-01 0.00000000e+00 0.00000000e+00\n",
      "  2.20906701e+00 0.00000000e+00 2.15910800e-03 0.00000000e+00\n",
      "  2.81980001e-03 2.72898826e-03 0.00000000e+00 1.61933100e-03\n",
      "  1.40990000e-01 4.34729835e-02 1.27901209e-03 2.45152522e-02\n",
      "  2.81980001e-03 3.07248654e-01 8.04982442e-03 1.40990000e-03\n",
      "  0.00000000e+00 5.39974612e-02 6.11012033e-03 1.25318308e-01\n",
      "  0.00000000e+00 0.00000000e+00 0.00000000e+00 9.97032923e+00\n",
      "  0.00000000e+00 1.31590667e-01 6.83223066e-01 4.74686635e-01\n",
      "  2.15910800e-01 9.61321149e-01 1.87986667e-01 1.87986667e-03\n",
      "  8.69020152e-03 2.64329126e+00 7.84503663e-03 0.00000000e+00\n",
      "  5.94044365e-01 5.39777000e-02 2.78657274e-02 3.40962608e-03\n",
      "  9.82729720e-03 9.39933335e-04 8.45940002e-01 1.13654203e-03\n",
      "  6.99181470e-02 9.69944324e-04 9.85792309e-02 2.41743797e-01\n",
      "  4.26595311e-02 1.79278572e-02 3.36272686e-01 1.16503604e-01\n",
      "  6.57587682e-01 4.32106540e-03 4.70702198e-01 3.15317996e-03\n",
      "  4.82788973e-03 3.11043894e-02 3.05506016e-03 0.00000000e+00\n",
      "  9.63657186e-03 1.82555620e+00 1.06530699e-02 9.39933335e-04\n",
      "  2.33007208e-03 4.16937686e-02 2.34983334e-03 3.87010262e-02\n",
      "  1.25557318e-01 1.98842222e+00 1.87027571e+00 2.36178459e-01\n",
      "  9.44713837e-02 4.52089259e-03 0.00000000e+00 8.73993908e-02\n",
      "  1.16503604e-03 1.15078903e-03 3.23866200e-03 2.36105673e-02\n",
      "  8.06454919e+00 2.89673384e-03 2.81980001e-03 0.00000000e+00\n",
      "  5.50909448e-02 1.07644734e-02 3.31683525e-01 9.39933335e-04\n",
      "  1.22202407e-01 6.48017340e-02 1.88495721e-02 1.79190433e-03\n",
      "  6.02552485e-02 0.00000000e+00 3.01392839e-03 9.39933335e-04\n",
      "  2.09072237e-03 1.79190433e-03 9.39933335e-04 1.63171401e-01\n",
      "  1.36449413e-03 4.04182407e-03 1.07955400e-01 1.35501867e+01\n",
      "  4.43460593e-01 1.94064888e+00 1.92686334e-01 8.85275914e-01\n",
      "  3.58380866e-02 2.15910800e-03 1.53780121e-02 1.87986667e-03\n",
      "  1.91851814e-03 1.44236989e-02 1.00831897e-03 0.00000000e+00\n",
      "  1.70584207e-02 1.96601086e-02 9.39933335e-04 0.00000000e+00\n",
      "  0.00000000e+00 1.46195694e-02 3.95349263e-03 0.00000000e+00\n",
      "  0.00000000e+00 0.00000000e+00 0.00000000e+00 9.65577947e-04\n",
      "  4.69966668e-01 2.81980001e-03 1.03681298e-03 2.05503620e-02\n",
      "  4.93465001e-03 0.00000000e+00 8.91957833e-03 5.23002442e-01\n",
      "  3.32159803e-02 0.00000000e+00 0.00000000e+00 2.58656322e-01\n",
      "  6.89283019e-01 3.40962608e-03 0.00000000e+00 0.00000000e+00\n",
      "  1.40990000e-03 2.81980001e-02 3.79429526e-02 4.10736030e-01\n",
      "  2.81980001e-03 4.51767409e-03 7.11345166e-01 1.87986667e-01\n",
      "  1.03698978e+00 2.48844343e-01 3.48352596e-03 9.77619252e-03\n",
      "  0.00000000e+00 0.00000000e+00 1.87986667e-03 5.15650425e-01\n",
      "  2.44404813e-03 5.82518020e-03 1.40990000e-03 2.44956238e-01\n",
      "  5.86185331e-03 6.54855903e-03 2.07630779e-02 1.91851814e-03\n",
      "  8.31840635e-03 1.40990000e-03 4.95933129e-03 0.00000000e+00\n",
      "  0.00000000e+00 3.27248277e-02 6.64828808e-03 2.24647389e-02\n",
      "  1.19035511e-02 0.00000000e+00 2.34983334e-03 1.10804801e-03\n",
      "  2.04139081e+00 2.81980001e-03 3.94613144e-02 1.40990000e-01\n",
      "  1.09380101e-03 0.00000000e+00 0.00000000e+00 7.87062927e-01\n",
      "  4.94508429e-01 3.62884543e-01 2.40379775e-02 4.52089259e-03\n",
      "  2.95326272e-02 1.87986667e-03 1.98814392e-03 2.35749498e-02\n",
      "  1.13677160e-02 4.97035980e-03 7.75955459e-03 2.81980001e-03\n",
      "  0.00000000e+00 8.74149075e-03 1.07955400e-03 1.55521947e-03\n",
      "  1.29325910e-03 4.97035980e-03 2.10737291e-01 9.65577947e-04\n",
      "  6.75904563e-02 1.40990000e-01 1.93910765e-02 4.90831667e-02\n",
      "  5.83098973e-01 0.00000000e+00 0.00000000e+00 6.35391835e-02\n",
      "  2.66910876e-02 5.45322259e-02 6.11012033e-03 1.13654203e-03\n",
      "  6.85877467e-02 1.99615915e-02 1.44334873e-02 0.00000000e+00\n",
      "  1.98529452e-03 3.51180886e-02 1.19353005e-01 6.57953335e-03\n",
      "  4.69966668e-03 2.26044630e-03 3.98441380e-02 1.31081466e-02\n",
      "  4.53433497e-01 4.98781298e+00 3.05117139e-02 2.89010345e-02\n",
      "  2.55641493e-03 6.72788676e-03 1.19922885e-02 3.96423842e-02\n",
      "  0.00000000e+00 0.00000000e+00 2.34983334e-02 0.00000000e+00\n",
      "  1.34392825e-01 2.36178459e-03 2.41555412e-03 1.17491667e-01\n",
      "  2.34983334e-01 6.75904563e-02 4.18023632e-02 0.00000000e+00\n",
      "  9.39933335e-04]]\n"
     ]
    }
   ],
   "source": [
    "# Example input data\n",
    "input_data = pd.DataFrame({\n",
    "    'GUEST_COUNT': [100],\n",
    "})\n",
    "\n",
    "# Predict quantities\n",
    "predictions = model.predict(input_data)\n",
    "\n",
    "# Print the predicted quantities\n",
    "print(predictions)"
   ]
  },
  {
   "cell_type": "code",
   "execution_count": 53,
   "id": "534e3b16",
   "metadata": {},
   "outputs": [
    {
     "ename": "KeyError",
     "evalue": "'CATERING_ID'",
     "output_type": "error",
     "traceback": [
      "\u001b[1;31m---------------------------------------------------------------------------\u001b[0m",
      "\u001b[1;31mKeyError\u001b[0m                                  Traceback (most recent call last)",
      "File \u001b[1;32mC:\\ProgramData\\anaconda3\\Lib\\site-packages\\pandas\\core\\indexes\\base.py:3653\u001b[0m, in \u001b[0;36mIndex.get_loc\u001b[1;34m(self, key)\u001b[0m\n\u001b[0;32m   3652\u001b[0m \u001b[38;5;28;01mtry\u001b[39;00m:\n\u001b[1;32m-> 3653\u001b[0m     \u001b[38;5;28;01mreturn\u001b[39;00m \u001b[38;5;28mself\u001b[39m\u001b[38;5;241m.\u001b[39m_engine\u001b[38;5;241m.\u001b[39mget_loc(casted_key)\n\u001b[0;32m   3654\u001b[0m \u001b[38;5;28;01mexcept\u001b[39;00m \u001b[38;5;167;01mKeyError\u001b[39;00m \u001b[38;5;28;01mas\u001b[39;00m err:\n",
      "File \u001b[1;32mC:\\ProgramData\\anaconda3\\Lib\\site-packages\\pandas\\_libs\\index.pyx:147\u001b[0m, in \u001b[0;36mpandas._libs.index.IndexEngine.get_loc\u001b[1;34m()\u001b[0m\n",
      "File \u001b[1;32mC:\\ProgramData\\anaconda3\\Lib\\site-packages\\pandas\\_libs\\index.pyx:176\u001b[0m, in \u001b[0;36mpandas._libs.index.IndexEngine.get_loc\u001b[1;34m()\u001b[0m\n",
      "File \u001b[1;32mpandas\\_libs\\hashtable_class_helper.pxi:7080\u001b[0m, in \u001b[0;36mpandas._libs.hashtable.PyObjectHashTable.get_item\u001b[1;34m()\u001b[0m\n",
      "File \u001b[1;32mpandas\\_libs\\hashtable_class_helper.pxi:7088\u001b[0m, in \u001b[0;36mpandas._libs.hashtable.PyObjectHashTable.get_item\u001b[1;34m()\u001b[0m\n",
      "\u001b[1;31mKeyError\u001b[0m: 'CATERING_ID'",
      "\nThe above exception was the direct cause of the following exception:\n",
      "\u001b[1;31mKeyError\u001b[0m                                  Traceback (most recent call last)",
      "Cell \u001b[1;32mIn[53], line 15\u001b[0m\n\u001b[0;32m     13\u001b[0m \u001b[38;5;66;03m# Convert CATERING_ID to numeric type in both DataFrames\u001b[39;00m\n\u001b[0;32m     14\u001b[0m catering_details[\u001b[38;5;124m'\u001b[39m\u001b[38;5;124mCATERING_ID\u001b[39m\u001b[38;5;124m'\u001b[39m] \u001b[38;5;241m=\u001b[39m pd\u001b[38;5;241m.\u001b[39mto_numeric(catering_details[\u001b[38;5;124m'\u001b[39m\u001b[38;5;124mCATERING_ID\u001b[39m\u001b[38;5;124m'\u001b[39m], errors\u001b[38;5;241m=\u001b[39m\u001b[38;5;124m'\u001b[39m\u001b[38;5;124mcoerce\u001b[39m\u001b[38;5;124m'\u001b[39m)\n\u001b[1;32m---> 15\u001b[0m catering[\u001b[38;5;124m'\u001b[39m\u001b[38;5;124mCATERING_ID\u001b[39m\u001b[38;5;124m'\u001b[39m] \u001b[38;5;241m=\u001b[39m pd\u001b[38;5;241m.\u001b[39mto_numeric(catering[\u001b[38;5;124m'\u001b[39m\u001b[38;5;124mCATERING_ID\u001b[39m\u001b[38;5;124m'\u001b[39m], errors\u001b[38;5;241m=\u001b[39m\u001b[38;5;124m'\u001b[39m\u001b[38;5;124mcoerce\u001b[39m\u001b[38;5;124m'\u001b[39m)\n\u001b[0;32m     17\u001b[0m \u001b[38;5;66;03m# Drop rows with missing values in CATERING_ID\u001b[39;00m\n\u001b[0;32m     18\u001b[0m catering_details\u001b[38;5;241m.\u001b[39mdropna(subset\u001b[38;5;241m=\u001b[39m[\u001b[38;5;124m'\u001b[39m\u001b[38;5;124mCATERING_ID\u001b[39m\u001b[38;5;124m'\u001b[39m], inplace\u001b[38;5;241m=\u001b[39m\u001b[38;5;28;01mTrue\u001b[39;00m)\n",
      "File \u001b[1;32mC:\\ProgramData\\anaconda3\\Lib\\site-packages\\pandas\\core\\frame.py:3761\u001b[0m, in \u001b[0;36mDataFrame.__getitem__\u001b[1;34m(self, key)\u001b[0m\n\u001b[0;32m   3759\u001b[0m \u001b[38;5;28;01mif\u001b[39;00m \u001b[38;5;28mself\u001b[39m\u001b[38;5;241m.\u001b[39mcolumns\u001b[38;5;241m.\u001b[39mnlevels \u001b[38;5;241m>\u001b[39m \u001b[38;5;241m1\u001b[39m:\n\u001b[0;32m   3760\u001b[0m     \u001b[38;5;28;01mreturn\u001b[39;00m \u001b[38;5;28mself\u001b[39m\u001b[38;5;241m.\u001b[39m_getitem_multilevel(key)\n\u001b[1;32m-> 3761\u001b[0m indexer \u001b[38;5;241m=\u001b[39m \u001b[38;5;28mself\u001b[39m\u001b[38;5;241m.\u001b[39mcolumns\u001b[38;5;241m.\u001b[39mget_loc(key)\n\u001b[0;32m   3762\u001b[0m \u001b[38;5;28;01mif\u001b[39;00m is_integer(indexer):\n\u001b[0;32m   3763\u001b[0m     indexer \u001b[38;5;241m=\u001b[39m [indexer]\n",
      "File \u001b[1;32mC:\\ProgramData\\anaconda3\\Lib\\site-packages\\pandas\\core\\indexes\\base.py:3655\u001b[0m, in \u001b[0;36mIndex.get_loc\u001b[1;34m(self, key)\u001b[0m\n\u001b[0;32m   3653\u001b[0m     \u001b[38;5;28;01mreturn\u001b[39;00m \u001b[38;5;28mself\u001b[39m\u001b[38;5;241m.\u001b[39m_engine\u001b[38;5;241m.\u001b[39mget_loc(casted_key)\n\u001b[0;32m   3654\u001b[0m \u001b[38;5;28;01mexcept\u001b[39;00m \u001b[38;5;167;01mKeyError\u001b[39;00m \u001b[38;5;28;01mas\u001b[39;00m err:\n\u001b[1;32m-> 3655\u001b[0m     \u001b[38;5;28;01mraise\u001b[39;00m \u001b[38;5;167;01mKeyError\u001b[39;00m(key) \u001b[38;5;28;01mfrom\u001b[39;00m \u001b[38;5;21;01merr\u001b[39;00m\n\u001b[0;32m   3656\u001b[0m \u001b[38;5;28;01mexcept\u001b[39;00m \u001b[38;5;167;01mTypeError\u001b[39;00m:\n\u001b[0;32m   3657\u001b[0m     \u001b[38;5;66;03m# If we have a listlike key, _check_indexing_error will raise\u001b[39;00m\n\u001b[0;32m   3658\u001b[0m     \u001b[38;5;66;03m#  InvalidIndexError. Otherwise we fall through and re-raise\u001b[39;00m\n\u001b[0;32m   3659\u001b[0m     \u001b[38;5;66;03m#  the TypeError.\u001b[39;00m\n\u001b[0;32m   3660\u001b[0m     \u001b[38;5;28mself\u001b[39m\u001b[38;5;241m.\u001b[39m_check_indexing_error(key)\n",
      "\u001b[1;31mKeyError\u001b[0m: 'CATERING_ID'"
     ]
    }
   ],
   "source": [
    "import pandas as pd\n",
    "from sklearn.model_selection import train_test_split\n",
    "from sklearn.linear_model import LinearRegression\n",
    "from sklearn.metrics import mean_squared_error\n",
    "import joblib\n",
    "\n",
    "# Load the catering details data\n",
    "catering_details = pd.read_csv('tbl_catering_details.csv')\n",
    "\n",
    "# Load the catering data\n",
    "catering = pd.read_csv('tbl_catering.csv')\n",
    "\n",
    "# Convert CATERING_ID to numeric type in both DataFrames\n",
    "catering_details['CATERING_ID'] = pd.to_numeric(catering_details['CATERING_ID'], errors='coerce')\n",
    "catering['CATERING_ID'] = pd.to_numeric(catering['CATERING_ID'], errors='coerce')\n",
    "\n",
    "# Drop rows with missing values in CATERING_ID\n",
    "catering_details.dropna(subset=['CATERING_ID'], inplace=True)\n",
    "catering.dropna(subset=['CATERING_ID'], inplace=True)\n",
    "\n",
    "# Merge catering details with catering data\n",
    "merged_data = pd.merge(catering_details, catering, on='CATERING_ID', how='inner')\n",
    "\n",
    "# Create a pivot table for dish quantities per event\n",
    "dish_quantity_pivot = merged_data.pivot_table(index='CATERING_ID', columns='ITEM_DESC', values='QUANTITY', fill_value=0)\n",
    "\n",
    "# Add guest count to the pivot table\n",
    "dish_quantity_pivot['GUEST_COUNT'] = merged_data['GUEST_COUNT']\n",
    "\n",
    "# Select features and target variable\n",
    "X = dish_quantity_pivot[['GUEST_COUNT']]\n",
    "y = dish_quantity_pivot.drop('GUEST_COUNT', axis=1)\n",
    "\n",
    "# Split the data into training and testing sets\n",
    "X_train, X_test, y_train, y_test = train_test_split(X, y, test_size=0.2, random_state=42)\n",
    "\n",
    "# Train the model\n",
    "model = LinearRegression()\n",
    "model.fit(X_train, y_train)\n",
    "\n",
    "# Evaluate the model\n",
    "y_pred = model.predict(X_test)\n",
    "mse = mean_squared_error(y_test, y_pred)\n",
    "print(f\"Mean Squared Error: {mse}\")\n",
    "\n",
    "# Save the model to a file\n",
    "joblib.dump(model, 'catering_model_11.pkl')\n",
    "\n",
    "# Load the saved model\n",
    "model = joblib.load('catering_model11.pkl')\n",
    "\n",
    "# Example input data\n",
    "input_data = pd.DataFrame({\n",
    "    'GUEST_COUNT': [100],\n",
    "})\n",
    "\n",
    "# Predict quantities\n",
    "predictions = model.predict(input_data)\n",
    "\n",
    "# Print the predicted quantities\n",
    "print(predictions)"
   ]
  },
  {
   "cell_type": "code",
   "execution_count": null,
   "id": "c954ac3a",
   "metadata": {},
   "outputs": [],
   "source": []
  }
 ],
 "metadata": {
  "kernelspec": {
   "display_name": "Python 3 (ipykernel)",
   "language": "python",
   "name": "python3"
  },
  "language_info": {
   "codemirror_mode": {
    "name": "ipython",
    "version": 3
   },
   "file_extension": ".py",
   "mimetype": "text/x-python",
   "name": "python",
   "nbconvert_exporter": "python",
   "pygments_lexer": "ipython3",
   "version": "3.11.5"
  }
 },
 "nbformat": 4,
 "nbformat_minor": 5
}
